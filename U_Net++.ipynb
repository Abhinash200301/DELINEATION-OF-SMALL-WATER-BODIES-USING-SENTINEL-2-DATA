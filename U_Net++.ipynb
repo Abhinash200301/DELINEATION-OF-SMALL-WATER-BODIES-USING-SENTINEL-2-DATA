{
  "metadata": {
    "kernelspec": {
      "name": "python3",
      "display_name": "Python 3",
      "language": "python"
    },
    "language_info": {
      "name": "python",
      "version": "3.10.13",
      "mimetype": "text/x-python",
      "codemirror_mode": {
        "name": "ipython",
        "version": 3
      },
      "pygments_lexer": "ipython3",
      "nbconvert_exporter": "python",
      "file_extension": ".py"
    },
    "colab": {
      "provenance": [],
      "name": "U-Net++",
      "include_colab_link": true
    },
    "kaggle": {
      "accelerator": "none",
      "dataSources": [
        {
          "sourceId": 8247404,
          "sourceType": "datasetVersion",
          "datasetId": 4893178
        }
      ],
      "dockerImageVersionId": 30698,
      "isInternetEnabled": true,
      "language": "python",
      "sourceType": "notebook",
      "isGpuEnabled": false
    }
  },
  "nbformat_minor": 0,
  "nbformat": 4,
  "cells": [
    {
      "cell_type": "markdown",
      "metadata": {
        "id": "view-in-github",
        "colab_type": "text"
      },
      "source": [
        "<a href=\"https://colab.research.google.com/github/Abhinash200301/DELINEATION-OF-SMALL-WATER-BODIES-USING-SENTINEL-2-DATA/blob/main/U_Net%2B%2B.ipynb\" target=\"_parent\"><img src=\"https://colab.research.google.com/assets/colab-badge.svg\" alt=\"Open In Colab\"/></a>"
      ]
    },
    {
      "source": [
        "# IMPORTANT: SOME KAGGLE DATA SOURCES ARE PRIVATE\n",
        "# RUN THIS CELL IN ORDER TO IMPORT YOUR KAGGLE DATA SOURCES.\n",
        "import kagglehub\n",
        "kagglehub.login()\n"
      ],
      "metadata": {
        "id": "3Xjsr9XKXk4B"
      },
      "cell_type": "code",
      "outputs": [],
      "execution_count": null
    },
    {
      "source": [
        "# IMPORTANT: RUN THIS CELL IN ORDER TO IMPORT YOUR KAGGLE DATA SOURCES,\n",
        "# THEN FEEL FREE TO DELETE THIS CELL.\n",
        "# NOTE: THIS NOTEBOOK ENVIRONMENT DIFFERS FROM KAGGLE'S PYTHON\n",
        "# ENVIRONMENT SO THERE MAY BE MISSING LIBRARIES USED BY YOUR\n",
        "# NOTEBOOK.\n",
        "\n",
        "abhinashanilkumar_dataset_bhapur_path = kagglehub.dataset_download('abhinashanilkumar/dataset-bhapur')\n",
        "\n",
        "print('Data source import complete.')\n"
      ],
      "metadata": {
        "id": "_l5KhNCiXk4C"
      },
      "cell_type": "code",
      "outputs": [],
      "execution_count": null
    },
    {
      "cell_type": "code",
      "source": [
        "# !pip install geotile"
      ],
      "metadata": {
        "id": "xvBTBgjn3OMO",
        "trusted": true
      },
      "outputs": [],
      "execution_count": null
    },
    {
      "cell_type": "code",
      "source": [
        "# from geotile import GeoTile"
      ],
      "metadata": {
        "id": "4cszNR-R4KBh",
        "trusted": true
      },
      "outputs": [],
      "execution_count": null
    },
    {
      "cell_type": "code",
      "source": [
        "# PATH_TRAIN_X = r'/content/drive/MyDrive/nayagarh_data/train_x.tif'\n",
        "# PATH_TRAIN_Y = r'/content/drive/MyDrive/nayagarh_data/Train x vector'"
      ],
      "metadata": {
        "id": "eKKxNnad4aI1",
        "trusted": true
      },
      "outputs": [],
      "execution_count": null
    },
    {
      "cell_type": "code",
      "source": [
        "# gt_train = GeoTile(PATH_TRAIN_X)\n",
        "# gt_train.meta"
      ],
      "metadata": {
        "id": "yclK23fbI-kQ",
        "trusted": true
      },
      "outputs": [],
      "execution_count": null
    },
    {
      "cell_type": "code",
      "source": [
        "#gt_train.generate_tiles(r'/content/drive/MyDrive/nayagarh_data/train_x_tiles', prefix='train_')"
      ],
      "metadata": {
        "id": "coD9WZsuJHcH",
        "trusted": true
      },
      "outputs": [],
      "execution_count": null
    },
    {
      "cell_type": "code",
      "source": [
        "# gt_train.rasterization(PATH_TRAIN_Y, '/content/drive/MyDrive/nayagarh_data/y_train.tif')"
      ],
      "metadata": {
        "id": "1NIMmxt0LUeE",
        "trusted": true
      },
      "outputs": [],
      "execution_count": null
    },
    {
      "cell_type": "code",
      "source": [
        "# gt_train_y = GeoTile('/content/drive/MyDrive/nayagarh_data/y_train.tif')\n",
        "# gt_train_y.generate_tiles(r'/content/drive/MyDrive/nayagarh_data/train_y_tiles', prefix='train_')"
      ],
      "metadata": {
        "id": "h2faNqdtKIfK",
        "trusted": true
      },
      "outputs": [],
      "execution_count": null
    },
    {
      "cell_type": "code",
      "source": [
        "# # generate tiles and store it inside geotile package\n",
        "# gt_train.generate_tiles(save_tiles=False)\n",
        "# gt_train_y.generate_tiles(save_tiles=False)\n",
        "\n",
        "# # preprocessing (eg. convert nan to zero and normalization of tiles)\n",
        "# gt_train.convert_nan_to_zero()\n",
        "# # gt_train.normalize_tiles()"
      ],
      "metadata": {
        "id": "gm5CGVQNPQ7c",
        "trusted": true
      },
      "outputs": [],
      "execution_count": null
    },
    {
      "cell_type": "code",
      "source": [
        "# gt_train.normalize_tiles()"
      ],
      "metadata": {
        "id": "YjxOQUl9QFv9",
        "trusted": true
      },
      "outputs": [],
      "execution_count": null
    },
    {
      "cell_type": "code",
      "source": [
        "# import numpy as np\n",
        "# gt_train.tile_data.min(), gt_train.tile_data.max()"
      ],
      "metadata": {
        "id": "YQXWy66yUfA_",
        "trusted": true
      },
      "outputs": [],
      "execution_count": null
    },
    {
      "cell_type": "code",
      "source": [
        "# # save it as a numpy array\n",
        "# gt_train.save_numpy('/content/drive/MyDrive/nayagarh_data/train_x.npy')\n",
        "# gt_train_y.save_numpy('/content/drive/MyDrive/y_train.npy')"
      ],
      "metadata": {
        "id": "0dDpT8uqQmQH",
        "trusted": true
      },
      "outputs": [],
      "execution_count": null
    },
    {
      "cell_type": "code",
      "source": [
        "# X_train = np.load('/content/drive/MyDrive/nayagarh_data/train_x.npy')\n",
        "# X_train.max(), X_train.min(), X_train.dtype, X_train.shape"
      ],
      "metadata": {
        "id": "XvyMHOgFVPUz",
        "trusted": true
      },
      "outputs": [],
      "execution_count": null
    },
    {
      "cell_type": "code",
      "source": [
        "# y_train= np.load('/content/drive/MyDrive/y_train.npy')"
      ],
      "metadata": {
        "id": "OiiMyGoBVlaS",
        "trusted": true
      },
      "outputs": [],
      "execution_count": null
    },
    {
      "cell_type": "code",
      "source": [
        "# import matplotlib.pyplot as plt\n",
        "\n",
        "# # Let's plot a sample input RGB image and output image with buildings\n",
        "# fig, (ax1, ax2) = plt.subplots(1,2)\n",
        "# img = np.random.randint(0, X_train.shape[0])\n",
        "# print(img)\n",
        "# ax1.imshow(X_train[img, :, :, :3])\n",
        "# ax2.imshow(y_train[img, :, :, 0])\n",
        "# ax1.set_title(\"Image\")\n",
        "# ax2.set_title('Mask')\n",
        "# plt.show()"
      ],
      "metadata": {
        "id": "8Gft7bGsVw1l",
        "trusted": true
      },
      "outputs": [],
      "execution_count": null
    },
    {
      "cell_type": "code",
      "source": [
        "# from google.colab import drive\n",
        "# drive.mount('/content/drive')"
      ],
      "metadata": {
        "id": "cQczY249BGHJ",
        "trusted": true
      },
      "outputs": [],
      "execution_count": null
    },
    {
      "cell_type": "code",
      "source": [
        "!pip install tensorflow"
      ],
      "metadata": {
        "colab": {
          "base_uri": "https://localhost:8080/"
        },
        "id": "l7Pd04fCJSrE",
        "outputId": "ccae7472-1146-41d0-c80f-bc275191eaa7",
        "execution": {
          "iopub.status.busy": "2025-01-01T15:48:12.072425Z",
          "iopub.execute_input": "2025-01-01T15:48:12.077597Z",
          "iopub.status.idle": "2025-01-01T15:48:29.813884Z",
          "shell.execute_reply.started": "2025-01-01T15:48:12.07714Z",
          "shell.execute_reply": "2025-01-01T15:48:29.812354Z"
        },
        "trusted": true
      },
      "outputs": [
        {
          "name": "stdout",
          "text": "Requirement already satisfied: tensorflow in /opt/conda/lib/python3.10/site-packages (2.15.0)\nRequirement already satisfied: absl-py>=1.0.0 in /opt/conda/lib/python3.10/site-packages (from tensorflow) (1.4.0)\nRequirement already satisfied: astunparse>=1.6.0 in /opt/conda/lib/python3.10/site-packages (from tensorflow) (1.6.3)\nRequirement already satisfied: flatbuffers>=23.5.26 in /opt/conda/lib/python3.10/site-packages (from tensorflow) (23.5.26)\nRequirement already satisfied: gast!=0.5.0,!=0.5.1,!=0.5.2,>=0.2.1 in /opt/conda/lib/python3.10/site-packages (from tensorflow) (0.5.4)\nRequirement already satisfied: google-pasta>=0.1.1 in /opt/conda/lib/python3.10/site-packages (from tensorflow) (0.2.0)\nRequirement already satisfied: h5py>=2.9.0 in /opt/conda/lib/python3.10/site-packages (from tensorflow) (3.10.0)\nRequirement already satisfied: libclang>=13.0.0 in /opt/conda/lib/python3.10/site-packages (from tensorflow) (16.0.6)\nRequirement already satisfied: ml-dtypes~=0.2.0 in /opt/conda/lib/python3.10/site-packages (from tensorflow) (0.2.0)\nRequirement already satisfied: numpy<2.0.0,>=1.23.5 in /opt/conda/lib/python3.10/site-packages (from tensorflow) (1.26.4)\nRequirement already satisfied: opt-einsum>=2.3.2 in /opt/conda/lib/python3.10/site-packages (from tensorflow) (3.3.0)\nRequirement already satisfied: packaging in /opt/conda/lib/python3.10/site-packages (from tensorflow) (21.3)\nRequirement already satisfied: protobuf!=4.21.0,!=4.21.1,!=4.21.2,!=4.21.3,!=4.21.4,!=4.21.5,<5.0.0dev,>=3.20.3 in /opt/conda/lib/python3.10/site-packages (from tensorflow) (3.20.3)\nRequirement already satisfied: setuptools in /opt/conda/lib/python3.10/site-packages (from tensorflow) (69.0.3)\nRequirement already satisfied: six>=1.12.0 in /opt/conda/lib/python3.10/site-packages (from tensorflow) (1.16.0)\nRequirement already satisfied: termcolor>=1.1.0 in /opt/conda/lib/python3.10/site-packages (from tensorflow) (2.4.0)\nRequirement already satisfied: typing-extensions>=3.6.6 in /opt/conda/lib/python3.10/site-packages (from tensorflow) (4.9.0)\nRequirement already satisfied: wrapt<1.15,>=1.11.0 in /opt/conda/lib/python3.10/site-packages (from tensorflow) (1.14.1)\nRequirement already satisfied: tensorflow-io-gcs-filesystem>=0.23.1 in /opt/conda/lib/python3.10/site-packages (from tensorflow) (0.35.0)\nRequirement already satisfied: grpcio<2.0,>=1.24.3 in /opt/conda/lib/python3.10/site-packages (from tensorflow) (1.60.0)\nRequirement already satisfied: tensorboard<2.16,>=2.15 in /opt/conda/lib/python3.10/site-packages (from tensorflow) (2.15.1)\nRequirement already satisfied: tensorflow-estimator<2.16,>=2.15.0 in /opt/conda/lib/python3.10/site-packages (from tensorflow) (2.15.0)\nRequirement already satisfied: keras<2.16,>=2.15.0 in /opt/conda/lib/python3.10/site-packages (from tensorflow) (2.15.0)\nRequirement already satisfied: wheel<1.0,>=0.23.0 in /opt/conda/lib/python3.10/site-packages (from astunparse>=1.6.0->tensorflow) (0.42.0)\nRequirement already satisfied: google-auth<3,>=1.6.3 in /opt/conda/lib/python3.10/site-packages (from tensorboard<2.16,>=2.15->tensorflow) (2.26.1)\nRequirement already satisfied: google-auth-oauthlib<2,>=0.5 in /opt/conda/lib/python3.10/site-packages (from tensorboard<2.16,>=2.15->tensorflow) (1.2.0)\nRequirement already satisfied: markdown>=2.6.8 in /opt/conda/lib/python3.10/site-packages (from tensorboard<2.16,>=2.15->tensorflow) (3.5.2)\nRequirement already satisfied: requests<3,>=2.21.0 in /opt/conda/lib/python3.10/site-packages (from tensorboard<2.16,>=2.15->tensorflow) (2.31.0)\nRequirement already satisfied: tensorboard-data-server<0.8.0,>=0.7.0 in /opt/conda/lib/python3.10/site-packages (from tensorboard<2.16,>=2.15->tensorflow) (0.7.2)\nRequirement already satisfied: werkzeug>=1.0.1 in /opt/conda/lib/python3.10/site-packages (from tensorboard<2.16,>=2.15->tensorflow) (3.0.2)\nRequirement already satisfied: pyparsing!=3.0.5,>=2.0.2 in /opt/conda/lib/python3.10/site-packages (from packaging->tensorflow) (3.1.1)\nRequirement already satisfied: cachetools<6.0,>=2.0.0 in /opt/conda/lib/python3.10/site-packages (from google-auth<3,>=1.6.3->tensorboard<2.16,>=2.15->tensorflow) (4.2.4)\nRequirement already satisfied: pyasn1-modules>=0.2.1 in /opt/conda/lib/python3.10/site-packages (from google-auth<3,>=1.6.3->tensorboard<2.16,>=2.15->tensorflow) (0.3.0)\nRequirement already satisfied: rsa<5,>=3.1.4 in /opt/conda/lib/python3.10/site-packages (from google-auth<3,>=1.6.3->tensorboard<2.16,>=2.15->tensorflow) (4.9)\nRequirement already satisfied: requests-oauthlib>=0.7.0 in /opt/conda/lib/python3.10/site-packages (from google-auth-oauthlib<2,>=0.5->tensorboard<2.16,>=2.15->tensorflow) (1.3.1)\nRequirement already satisfied: charset-normalizer<4,>=2 in /opt/conda/lib/python3.10/site-packages (from requests<3,>=2.21.0->tensorboard<2.16,>=2.15->tensorflow) (3.3.2)\nRequirement already satisfied: idna<4,>=2.5 in /opt/conda/lib/python3.10/site-packages (from requests<3,>=2.21.0->tensorboard<2.16,>=2.15->tensorflow) (3.6)\nRequirement already satisfied: urllib3<3,>=1.21.1 in /opt/conda/lib/python3.10/site-packages (from requests<3,>=2.21.0->tensorboard<2.16,>=2.15->tensorflow) (1.26.18)\nRequirement already satisfied: certifi>=2017.4.17 in /opt/conda/lib/python3.10/site-packages (from requests<3,>=2.21.0->tensorboard<2.16,>=2.15->tensorflow) (2024.2.2)\nRequirement already satisfied: MarkupSafe>=2.1.1 in /opt/conda/lib/python3.10/site-packages (from werkzeug>=1.0.1->tensorboard<2.16,>=2.15->tensorflow) (2.1.3)\nRequirement already satisfied: pyasn1<0.6.0,>=0.4.6 in /opt/conda/lib/python3.10/site-packages (from pyasn1-modules>=0.2.1->google-auth<3,>=1.6.3->tensorboard<2.16,>=2.15->tensorflow) (0.5.1)\nRequirement already satisfied: oauthlib>=3.0.0 in /opt/conda/lib/python3.10/site-packages (from requests-oauthlib>=0.7.0->google-auth-oauthlib<2,>=0.5->tensorboard<2.16,>=2.15->tensorflow) (3.2.2)\n",
          "output_type": "stream"
        }
      ],
      "execution_count": null
    },
    {
      "cell_type": "code",
      "source": [
        "import glob\n",
        "import numpy as np\n",
        "import matplotlib.pyplot as plt\n",
        "%matplotlib inline\n",
        "import tensorflow as tf\n",
        "import tensorflow.keras.layers as L\n",
        "from PIL import Image\n",
        "\n",
        "from tensorflow.python.keras import Model\n",
        "from tensorflow.python.keras.layers import Input, Conv2D, MaxPooling2D, Conv2DTranspose, Concatenate, Dropout"
      ],
      "metadata": {
        "id": "tG9zl0ejYerp",
        "execution": {
          "iopub.status.busy": "2025-01-01T15:48:29.816952Z",
          "iopub.execute_input": "2025-01-01T15:48:29.8174Z",
          "iopub.status.idle": "2025-01-01T15:48:34.853685Z",
          "shell.execute_reply.started": "2025-01-01T15:48:29.817359Z",
          "shell.execute_reply": "2025-01-01T15:48:34.8523Z"
        },
        "trusted": true,
        "outputId": "eaa2a617-2ed4-469e-d9a0-63bbca1e73e9"
      },
      "outputs": [
        {
          "name": "stderr",
          "text": "2025-01-01 15:48:30.384773: E external/local_xla/xla/stream_executor/cuda/cuda_dnn.cc:9261] Unable to register cuDNN factory: Attempting to register factory for plugin cuDNN when one has already been registered\n2025-01-01 15:48:30.384866: E external/local_xla/xla/stream_executor/cuda/cuda_fft.cc:607] Unable to register cuFFT factory: Attempting to register factory for plugin cuFFT when one has already been registered\n2025-01-01 15:48:30.388693: E external/local_xla/xla/stream_executor/cuda/cuda_blas.cc:1515] Unable to register cuBLAS factory: Attempting to register factory for plugin cuBLAS when one has already been registered\n",
          "output_type": "stream"
        }
      ],
      "execution_count": null
    },
    {
      "cell_type": "code",
      "source": [
        "# import os\n",
        "# os.chdir(r'/content/drive/MyDrive/Bhapur_data')"
      ],
      "metadata": {
        "id": "oP9-PNpAYo1T",
        "execution": {
          "iopub.status.busy": "2025-01-01T15:48:34.855069Z",
          "iopub.execute_input": "2025-01-01T15:48:34.855737Z",
          "iopub.status.idle": "2025-01-01T15:48:34.86076Z",
          "shell.execute_reply.started": "2025-01-01T15:48:34.855701Z",
          "shell.execute_reply": "2025-01-01T15:48:34.859327Z"
        },
        "trusted": true
      },
      "outputs": [],
      "execution_count": null
    },
    {
      "cell_type": "code",
      "source": [
        "train_xx_initial = np.load('/kaggle/input/dataset-bhapur/train_x (1).npy')\n",
        "train_yy_initial = np.load('/kaggle/input/dataset-bhapur/y_train (1).npy')\n",
        "\n",
        "print(train_xx_initial.shape, train_yy_initial.shape)\n",
        "train_xx_initial.max(), train_xx_initial.min()"
      ],
      "metadata": {
        "colab": {
          "base_uri": "https://localhost:8080/"
        },
        "id": "xO13xCYFiimt",
        "outputId": "573d2464-e565-431c-d14f-3251cb83914e",
        "execution": {
          "iopub.status.busy": "2025-01-01T15:48:34.863933Z",
          "iopub.execute_input": "2025-01-01T15:48:34.864359Z",
          "iopub.status.idle": "2025-01-01T15:48:35.268729Z",
          "shell.execute_reply.started": "2025-01-01T15:48:34.864321Z",
          "shell.execute_reply": "2025-01-01T15:48:35.267335Z"
        },
        "trusted": true
      },
      "outputs": [
        {
          "name": "stdout",
          "text": "(270, 256, 256, 4) (270, 256, 256, 1)\n",
          "output_type": "stream"
        },
        {
          "execution_count": 4,
          "output_type": "execute_result",
          "data": {
            "text/plain": "(1.0, 0.0)"
          },
          "metadata": {}
        }
      ],
      "execution_count": null
    },
    {
      "cell_type": "code",
      "source": [
        "import imgaug.augmenters as iaa\n",
        "from imgaug.augmentables.segmaps import SegmentationMapsOnImage\n",
        "import numpy as np\n",
        "\n",
        "# Define augmentation pipeline\n",
        "seq = iaa.Sequential([\n",
        "    iaa.Fliplr(0.5),  # Horizontal flip\n",
        "    iaa.Flipud(0.5),  # Vertical flip\n",
        "    iaa.Affine(rotate=(-45, 45)),  # Random rotation between -45 and 45 degrees\n",
        "    iaa.Affine(scale=(0.5, 1.5)),  # Random scaling between 0.5x and 1.5x\n",
        "    iaa.Affine(translate_percent={\"x\": (-0.2, 0.2), \"y\": (-0.2, 0.2)}),  # Random translation\n",
        "    # iaa.AdditiveGaussianNoise(scale=(0, 0.05*255)),  # Gaussian noise\n",
        "    # iaa.ElasticTransformation(alpha=50, sigma=5)  # Elastic deformation\n",
        "])"
      ],
      "metadata": {
        "id": "FVcMumzdlyF5",
        "execution": {
          "iopub.status.busy": "2025-01-01T15:48:35.270117Z",
          "iopub.execute_input": "2025-01-01T15:48:35.270446Z",
          "iopub.status.idle": "2025-01-01T15:48:35.731706Z",
          "shell.execute_reply.started": "2025-01-01T15:48:35.270419Z",
          "shell.execute_reply": "2025-01-01T15:48:35.730537Z"
        },
        "trusted": true
      },
      "outputs": [],
      "execution_count": null
    },
    {
      "cell_type": "code",
      "source": [
        "augmented_images = []\n",
        "augmented_masks = []\n",
        "\n",
        "num_augmentations = 3\n",
        "# Apply augmentation to each original image and mask\n",
        "for i in range(train_xx_initial.shape[0]):\n",
        "    image = train_xx_initial[i]\n",
        "    mask = train_yy_initial[i]\n",
        "\n",
        "    # Create a segmentation map object from the mask\n",
        "    segmentation_map = SegmentationMapsOnImage(mask, shape=image.shape)\n",
        "\n",
        "    # Apply augmentation num_augmentations times\n",
        "    for _ in range(num_augmentations):\n",
        "        # Apply the same augmentation to both image and mask\n",
        "        augmented_image, augmented_segmentation_mask = seq.augment(image=image, segmentation_maps=segmentation_map)\n",
        "\n",
        "        # Append the augmented image and mask to the lists\n",
        "        augmented_images.append(augmented_image)\n",
        "        augmented_masks.append(augmented_segmentation_mask.get_arr())\n",
        "\n",
        "# Convert lists to numpy arrays\n",
        "augmented_images = np.array(augmented_images)\n",
        "augmented_masks = np.array(augmented_masks)\n",
        "\n",
        "# append augmented images/masks with original images/masks\n",
        "train_xx = np.concatenate((train_xx_initial, augmented_images), axis=0)\n",
        "train_yy = np.concatenate((train_yy_initial, augmented_masks), axis=0)"
      ],
      "metadata": {
        "id": "2pKesfBIl7is",
        "execution": {
          "iopub.status.busy": "2025-01-01T15:48:35.732998Z",
          "iopub.execute_input": "2025-01-01T15:48:35.733598Z",
          "iopub.status.idle": "2025-01-01T15:48:49.803979Z",
          "shell.execute_reply.started": "2025-01-01T15:48:35.733565Z",
          "shell.execute_reply": "2025-01-01T15:48:49.802755Z"
        },
        "trusted": true
      },
      "outputs": [],
      "execution_count": null
    },
    {
      "cell_type": "code",
      "source": [
        "# append augmented images/masks with original images/masks\n",
        "train_xx = np.concatenate((train_xx_initial, augmented_images), axis=0)\n",
        "train_yy = np.concatenate((train_yy_initial, augmented_masks), axis=0)"
      ],
      "metadata": {
        "id": "CJCrZx7ImHE6",
        "execution": {
          "iopub.status.busy": "2025-01-01T15:48:49.805318Z",
          "iopub.execute_input": "2025-01-01T15:48:49.805616Z",
          "iopub.status.idle": "2025-01-01T15:48:50.373991Z",
          "shell.execute_reply.started": "2025-01-01T15:48:49.805591Z",
          "shell.execute_reply": "2025-01-01T15:48:50.372759Z"
        },
        "trusted": true
      },
      "outputs": [],
      "execution_count": null
    },
    {
      "cell_type": "code",
      "source": [
        "# release memory\n",
        "del augmented_images\n",
        "del augmented_masks"
      ],
      "metadata": {
        "id": "-VFZqICXmS2q",
        "execution": {
          "iopub.status.busy": "2025-01-01T15:48:50.375325Z",
          "iopub.execute_input": "2025-01-01T15:48:50.375729Z",
          "iopub.status.idle": "2025-01-01T15:48:50.383472Z",
          "shell.execute_reply.started": "2025-01-01T15:48:50.3757Z",
          "shell.execute_reply": "2025-01-01T15:48:50.382348Z"
        },
        "trusted": true
      },
      "outputs": [],
      "execution_count": null
    },
    {
      "cell_type": "code",
      "source": [
        "train_xx.max(), train_xx.min(), train_xx.dtype"
      ],
      "metadata": {
        "colab": {
          "base_uri": "https://localhost:8080/"
        },
        "id": "qherqZkfmbG7",
        "outputId": "1129a436-366b-42f5-8b79-18f18ca22c25",
        "execution": {
          "iopub.status.busy": "2025-01-01T15:48:50.385101Z",
          "iopub.execute_input": "2025-01-01T15:48:50.385925Z",
          "iopub.status.idle": "2025-01-01T15:48:50.609798Z",
          "shell.execute_reply.started": "2025-01-01T15:48:50.385885Z",
          "shell.execute_reply": "2025-01-01T15:48:50.608672Z"
        },
        "trusted": true
      },
      "outputs": [
        {
          "execution_count": 9,
          "output_type": "execute_result",
          "data": {
            "text/plain": "(1.0, 0.0, dtype('float32'))"
          },
          "metadata": {}
        }
      ],
      "execution_count": null
    },
    {
      "cell_type": "code",
      "source": [
        "train_xx.shape, train_yy.shape"
      ],
      "metadata": {
        "colab": {
          "base_uri": "https://localhost:8080/"
        },
        "id": "0RlH6SWbmkHd",
        "outputId": "1d518862-5c75-4625-9f07-3306340b97f5",
        "execution": {
          "iopub.status.busy": "2025-01-01T15:48:50.614878Z",
          "iopub.execute_input": "2025-01-01T15:48:50.615209Z",
          "iopub.status.idle": "2025-01-01T15:48:50.62212Z",
          "shell.execute_reply.started": "2025-01-01T15:48:50.615184Z",
          "shell.execute_reply": "2025-01-01T15:48:50.620919Z"
        },
        "trusted": true
      },
      "outputs": [
        {
          "execution_count": 10,
          "output_type": "execute_result",
          "data": {
            "text/plain": "((1080, 256, 256, 4), (1080, 256, 256, 1))"
          },
          "metadata": {}
        }
      ],
      "execution_count": null
    },
    {
      "cell_type": "code",
      "source": [
        "num_samples = train_xx.shape[0]\n",
        "shuffled_indices = np.random.permutation(num_samples)\n",
        "\n",
        "train_xx = train_xx[shuffled_indices]\n",
        "train_yy = train_yy[shuffled_indices]"
      ],
      "metadata": {
        "id": "xpv_zRGsmo4W",
        "execution": {
          "iopub.status.busy": "2025-01-01T15:48:50.623397Z",
          "iopub.execute_input": "2025-01-01T15:48:50.623689Z",
          "iopub.status.idle": "2025-01-01T15:48:50.995789Z",
          "shell.execute_reply.started": "2025-01-01T15:48:50.623668Z",
          "shell.execute_reply": "2025-01-01T15:48:50.994669Z"
        },
        "trusted": true
      },
      "outputs": [],
      "execution_count": null
    },
    {
      "cell_type": "code",
      "source": [
        "# Let's plot a sample input RGB image and output image with buildings\n",
        "img = np.random.randint(0, train_xx.shape[0])\n",
        "print(img)\n",
        "plt.imshow(train_xx[img, :, :, :3])\n",
        "plt.show()\n",
        "plt.imshow(train_yy[img, :, :, 0])\n",
        "plt.show()"
      ],
      "metadata": {
        "colab": {
          "base_uri": "https://localhost:8080/",
          "height": 870
        },
        "id": "bmIJimJumt70",
        "outputId": "b6ee743e-ee39-4707-9052-bc163131c1bd",
        "execution": {
          "iopub.status.busy": "2025-01-01T15:48:50.997135Z",
          "iopub.execute_input": "2025-01-01T15:48:50.997465Z",
          "iopub.status.idle": "2025-01-01T15:48:51.449966Z",
          "shell.execute_reply.started": "2025-01-01T15:48:50.997437Z",
          "shell.execute_reply": "2025-01-01T15:48:51.448908Z"
        },
        "trusted": true
      },
      "outputs": [
        {
          "name": "stdout",
          "text": "1063\n",
          "output_type": "stream"
        },
        {
          "output_type": "display_data",
          "data": {
            "text/plain": "<Figure size 640x480 with 1 Axes>",
            "image/png": "[encoded data removed]"
          },
          "metadata": {}
        },
        {
          "output_type": "display_data",
          "data": {
            "text/plain": "<Figure size 640x480 with 1 Axes>",
            "image/png": "[encoded data removed]"
          },
          "metadata": {}
        }
      ],
      "execution_count": null
    },
    {
      "cell_type": "code",
      "source": [
        "from tensorflow.keras.layers import Input, Conv2D, BatchNormalization, Activation, concatenate, Conv2DTranspose\n",
        "from tensorflow.keras.models import Model"
      ],
      "metadata": {
        "id": "gG44M6w0sG_u",
        "execution": {
          "iopub.status.busy": "2025-01-01T15:48:51.451247Z",
          "iopub.execute_input": "2025-01-01T15:48:51.451562Z",
          "iopub.status.idle": "2025-01-01T15:48:51.457569Z",
          "shell.execute_reply.started": "2025-01-01T15:48:51.451536Z",
          "shell.execute_reply": "2025-01-01T15:48:51.456319Z"
        },
        "trusted": true
      },
      "outputs": [],
      "execution_count": null
    },
    {
      "cell_type": "code",
      "source": [
        "def nested_unet(input_shape=(256, 256, 4), num_classes=1):\n",
        "    # Input\n",
        "    inputs = Input(input_shape)\n",
        "\n",
        "    # Contracting Path\n",
        "    conv1 = Conv2D(64, 3, activation='relu', padding='same', kernel_initializer='he_normal')(inputs)\n",
        "    conv1 = Conv2D(64, 3, activation='relu', padding='same', kernel_initializer='he_normal')(conv1)\n",
        "    pool1 = MaxPooling2D(pool_size=(2, 2))(conv1)\n",
        "\n",
        "    conv2 = Conv2D(128, 3, activation='relu', padding='same', kernel_initializer='he_normal')(pool1)\n",
        "    conv2 = Conv2D(128, 3, activation='relu', padding='same', kernel_initializer='he_normal')(conv2)\n",
        "    pool2 = MaxPooling2D(pool_size=(2, 2))(conv2)\n",
        "\n",
        "    conv3 = Conv2D(256, 3, activation='relu', padding='same', kernel_initializer='he_normal')(pool2)\n",
        "    conv3 = Conv2D(256, 3, activation='relu', padding='same', kernel_initializer='he_normal')(conv3)\n",
        "    pool3 = MaxPooling2D(pool_size=(2, 2))(conv3)\n",
        "\n",
        "    conv4 = Conv2D(512, 3, activation='relu', padding='same', kernel_initializer='he_normal')(pool3)\n",
        "    conv4 = Conv2D(512, 3, activation='relu', padding='same', kernel_initializer='he_normal')(conv4)\n",
        "    drop4 = Dropout(0.5)(conv4)\n",
        "    pool4 = MaxPooling2D(pool_size=(2, 2))(drop4)\n",
        "\n",
        "    # Bottom Level\n",
        "    conv5 = Conv2D(1024, 3, activation='relu', padding='same', kernel_initializer='he_normal')(pool4)\n",
        "    conv5 = Conv2D(1024, 3, activation='relu', padding='same', kernel_initializer='he_normal')(conv5)\n",
        "    drop5 = Dropout(0.5)(conv5)\n",
        "\n",
        "    # Expansive Path\n",
        "    up6 = Conv2DTranspose(512, (2, 2), strides=(2, 2), padding='same')(drop5)\n",
        "    merge6 = concatenate([up6, conv4], axis=3)\n",
        "    conv6 = Conv2D(512, 3, activation='relu', padding='same', kernel_initializer='he_normal')(merge6)\n",
        "    conv6 = Conv2D(512, 3, activation='relu', padding='same', kernel_initializer='he_normal')(conv6)\n",
        "\n",
        "    up7 = Conv2DTranspose(256, (2, 2), strides=(2, 2), padding='same')(conv6)\n",
        "    merge7 = concatenate([up7, conv3], axis=3)\n",
        "    conv7 = Conv2D(256, 3, activation='relu', padding='same', kernel_initializer='he_normal')(merge7)\n",
        "    conv7 = Conv2D(256, 3, activation='relu', padding='same', kernel_initializer='he_normal')(conv7)\n",
        "\n",
        "    up8 = Conv2DTranspose(128, (2, 2), strides=(2, 2), padding='same')(conv7)\n",
        "    merge8 = concatenate([up8, conv2], axis=3)\n",
        "    conv8 = Conv2D(128, 3, activation='relu', padding='same', kernel_initializer='he_normal')(merge8)\n",
        "    conv8 = Conv2D(128, 3, activation='relu', padding='same', kernel_initializer='he_normal')(conv8)\n",
        "\n",
        "    up9 = Conv2DTranspose(64, (2, 2), strides=(2, 2), padding='same')(conv8)\n",
        "    merge9 = concatenate([up9, conv1], axis=3)\n",
        "    conv9 = Conv2D(64, 3, activation='relu', padding='same', kernel_initializer='he_normal')(merge9)\n",
        "    conv9 = Conv2D(64, 3, activation='relu', padding='same', kernel_initializer='he_normal')(conv9)\n",
        "\n",
        "    # Nested Path\n",
        "    conv4n = Conv2D(512, 3, activation='relu', padding='same', kernel_initializer='he_normal')(merge6)\n",
        "    conv4n = Conv2D(512, 3, activation='relu', padding='same', kernel_initializer='he_normal')(conv4n)\n",
        "    drop4n = Dropout(0.5)(conv4n)\n",
        "    pool4n = MaxPooling2D(pool_size=(2, 2))(drop4n)\n",
        "\n",
        "    conv5n = Conv2D(1024, 3, activation='relu', padding='same', kernel_initializer='he_normal')(pool4n)\n",
        "    conv5n = Conv2D(1024, 3, activation='relu', padding='same', kernel_initializer='he_normal')(conv5n)\n",
        "    drop5n = Dropout(0.5)(conv5n)\n",
        "\n",
        "    up6n = Conv2DTranspose(512, (2, 2), strides=(2, 2), padding='same')(drop5n)\n",
        "    merge6n = concatenate([up6n, conv4n], axis=3)\n",
        "    conv6n = Conv2D(512, 3, activation='relu', padding='same', kernel_initializer='he_normal')(merge6n)\n",
        "    conv6n = Conv2D(512, 3, activation='relu', padding='same', kernel_initializer='he_normal')(conv6n)\n",
        "\n",
        "    up7n = Conv2DTranspose(256, (2, 2), strides=(2, 2), padding='same')(conv6n)\n",
        "    merge7n = concatenate([up7n, conv3], axis=3)\n",
        "    conv7n = Conv2D(256, 3, activation='relu', padding='same', kernel_initializer='he_normal')(merge7n)\n",
        "    conv7n = Conv2D(256, 3, activation='relu', padding='same', kernel_initializer='he_normal')(conv7n)\n",
        "\n",
        "    up8n = Conv2DTranspose(128, (2, 2), strides=(2, 2), padding='same')(conv7n)\n",
        "    merge8n = concatenate([up8n, conv2], axis=3)\n",
        "    conv8n = Conv2D(128, 3, activation='relu', padding='same', kernel_initializer='he_normal')(merge8n)\n",
        "    conv8n = Conv2D(128, 3, activation='relu', padding='same', kernel_initializer='he_normal')(conv8n)\n",
        "\n",
        "    up9n = Conv2DTranspose(64, (2, 2), strides=(2, 2), padding='same')(conv8n)\n",
        "    merge9n = concatenate([up9n, conv1], axis=3)\n",
        "    conv9n = Conv2D(64, 3, activation='relu', padding='same', kernel_initializer='he_normal')(merge9n)\n",
        "    conv9n = Conv2D(64, 3, activation='relu', padding='same', kernel_initializer='he_normal')(conv9n)\n",
        "\n",
        "    # Output\n",
        "    outputs = Conv2D(num_classes, 1, activation='sigmoid')(conv9n)\n",
        "\n",
        "    # Model\n",
        "    model = Model(inputs=[inputs], outputs=[outputs])\n",
        "    return model"
      ],
      "metadata": {
        "id": "8-eGGVLVphez",
        "execution": {
          "iopub.status.busy": "2025-01-01T15:48:51.459263Z",
          "iopub.execute_input": "2025-01-01T15:48:51.459698Z",
          "iopub.status.idle": "2025-01-01T15:48:51.482747Z",
          "shell.execute_reply.started": "2025-01-01T15:48:51.459665Z",
          "shell.execute_reply": "2025-01-01T15:48:51.481539Z"
        },
        "trusted": true
      },
      "outputs": [],
      "execution_count": null
    },
    {
      "cell_type": "code",
      "source": [
        "# Compile the model\n",
        "model = nested_unet()\n",
        "model.compile(optimizer='adam', loss='binary_crossentropy', metrics=['accuracy'])\n",
        "\n",
        "# Print model summary\n",
        "model.summary()"
      ],
      "metadata": {
        "colab": {
          "base_uri": "https://localhost:8080/"
        },
        "id": "f7USBy20phiP",
        "outputId": "e8b47c45-cf42-46b7-f6b6-3879d8577e80",
        "execution": {
          "iopub.status.busy": "2025-01-01T15:48:51.484086Z",
          "iopub.execute_input": "2025-01-01T15:48:51.484397Z",
          "iopub.status.idle": "2025-01-01T15:48:53.000922Z",
          "shell.execute_reply.started": "2025-01-01T15:48:51.48437Z",
          "shell.execute_reply": "2025-01-01T15:48:52.999467Z"
        },
        "trusted": true
      },
      "outputs": [
        {
          "name": "stdout",
          "text": "Model: \"model\"\n__________________________________________________________________________________________________\n Layer (type)                Output Shape                 Param #   Connected to                  \n==================================================================================================\n input_1 (InputLayer)        [(None, 256, 256, 4)]        0         []                            \n                                                                                                  \n conv2d (Conv2D)             (None, 256, 256, 64)         2368      ['input_1[0][0]']             \n                                                                                                  \n conv2d_1 (Conv2D)           (None, 256, 256, 64)         36928     ['conv2d[0][0]']              \n                                                                                                  \n tf.compat.v1.nn.max_pool (  (None, 128, 128, 64)         0         ['conv2d_1[0][0]']            \n TFOpLambda)                                                                                      \n                                                                                                  \n conv2d_2 (Conv2D)           (None, 128, 128, 128)        73856     ['tf.compat.v1.nn.max_pool[0][\n                                                                    0]']                          \n                                                                                                  \n conv2d_3 (Conv2D)           (None, 128, 128, 128)        147584    ['conv2d_2[0][0]']            \n                                                                                                  \n tf.compat.v1.nn.max_pool_1  (None, 64, 64, 128)          0         ['conv2d_3[0][0]']            \n  (TFOpLambda)                                                                                    \n                                                                                                  \n conv2d_4 (Conv2D)           (None, 64, 64, 256)          295168    ['tf.compat.v1.nn.max_pool_1[0\n                                                                    ][0]']                        \n                                                                                                  \n conv2d_5 (Conv2D)           (None, 64, 64, 256)          590080    ['conv2d_4[0][0]']            \n                                                                                                  \n tf.compat.v1.nn.max_pool_2  (None, 32, 32, 256)          0         ['conv2d_5[0][0]']            \n  (TFOpLambda)                                                                                    \n                                                                                                  \n conv2d_6 (Conv2D)           (None, 32, 32, 512)          1180160   ['tf.compat.v1.nn.max_pool_2[0\n                                                                    ][0]']                        \n                                                                                                  \n conv2d_7 (Conv2D)           (None, 32, 32, 512)          2359808   ['conv2d_6[0][0]']            \n                                                                                                  \n tf.identity (TFOpLambda)    (None, 32, 32, 512)          0         ['conv2d_7[0][0]']            \n                                                                                                  \n tf.compat.v1.nn.max_pool_3  (None, 16, 16, 512)          0         ['tf.identity[0][0]']         \n  (TFOpLambda)                                                                                    \n                                                                                                  \n conv2d_8 (Conv2D)           (None, 16, 16, 1024)         4719616   ['tf.compat.v1.nn.max_pool_3[0\n                                                                    ][0]']                        \n                                                                                                  \n conv2d_9 (Conv2D)           (None, 16, 16, 1024)         9438208   ['conv2d_8[0][0]']            \n                                                                                                  \n tf.identity_1 (TFOpLambda)  (None, 16, 16, 1024)         0         ['conv2d_9[0][0]']            \n                                                                                                  \n conv2d_transpose (Conv2DTr  (None, 32, 32, 512)          2097664   ['tf.identity_1[0][0]']       \n anspose)                                                                                         \n                                                                                                  \n concatenate (Concatenate)   (None, 32, 32, 1024)         0         ['conv2d_transpose[0][0]',    \n                                                                     'conv2d_7[0][0]']            \n                                                                                                  \n conv2d_18 (Conv2D)          (None, 32, 32, 512)          4719104   ['concatenate[0][0]']         \n                                                                                                  \n conv2d_19 (Conv2D)          (None, 32, 32, 512)          2359808   ['conv2d_18[0][0]']           \n                                                                                                  \n tf.identity_2 (TFOpLambda)  (None, 32, 32, 512)          0         ['conv2d_19[0][0]']           \n                                                                                                  \n tf.compat.v1.nn.max_pool_4  (None, 16, 16, 512)          0         ['tf.identity_2[0][0]']       \n  (TFOpLambda)                                                                                    \n                                                                                                  \n conv2d_20 (Conv2D)          (None, 16, 16, 1024)         4719616   ['tf.compat.v1.nn.max_pool_4[0\n                                                                    ][0]']                        \n                                                                                                  \n conv2d_21 (Conv2D)          (None, 16, 16, 1024)         9438208   ['conv2d_20[0][0]']           \n                                                                                                  \n tf.identity_3 (TFOpLambda)  (None, 16, 16, 1024)         0         ['conv2d_21[0][0]']           \n                                                                                                  \n conv2d_transpose_4 (Conv2D  (None, 32, 32, 512)          2097664   ['tf.identity_3[0][0]']       \n Transpose)                                                                                       \n                                                                                                  \n concatenate_4 (Concatenate  (None, 32, 32, 1024)         0         ['conv2d_transpose_4[0][0]',  \n )                                                                   'conv2d_19[0][0]']           \n                                                                                                  \n conv2d_22 (Conv2D)          (None, 32, 32, 512)          4719104   ['concatenate_4[0][0]']       \n                                                                                                  \n conv2d_23 (Conv2D)          (None, 32, 32, 512)          2359808   ['conv2d_22[0][0]']           \n                                                                                                  \n conv2d_transpose_5 (Conv2D  (None, 64, 64, 256)          524544    ['conv2d_23[0][0]']           \n Transpose)                                                                                       \n                                                                                                  \n concatenate_5 (Concatenate  (None, 64, 64, 512)          0         ['conv2d_transpose_5[0][0]',  \n )                                                                   'conv2d_5[0][0]']            \n                                                                                                  \n conv2d_24 (Conv2D)          (None, 64, 64, 256)          1179904   ['concatenate_5[0][0]']       \n                                                                                                  \n conv2d_25 (Conv2D)          (None, 64, 64, 256)          590080    ['conv2d_24[0][0]']           \n                                                                                                  \n conv2d_transpose_6 (Conv2D  (None, 128, 128, 128)        131200    ['conv2d_25[0][0]']           \n Transpose)                                                                                       \n                                                                                                  \n concatenate_6 (Concatenate  (None, 128, 128, 256)        0         ['conv2d_transpose_6[0][0]',  \n )                                                                   'conv2d_3[0][0]']            \n                                                                                                  \n conv2d_26 (Conv2D)          (None, 128, 128, 128)        295040    ['concatenate_6[0][0]']       \n                                                                                                  \n conv2d_27 (Conv2D)          (None, 128, 128, 128)        147584    ['conv2d_26[0][0]']           \n                                                                                                  \n conv2d_transpose_7 (Conv2D  (None, 256, 256, 64)         32832     ['conv2d_27[0][0]']           \n Transpose)                                                                                       \n                                                                                                  \n concatenate_7 (Concatenate  (None, 256, 256, 128)        0         ['conv2d_transpose_7[0][0]',  \n )                                                                   'conv2d_1[0][0]']            \n                                                                                                  \n conv2d_28 (Conv2D)          (None, 256, 256, 64)         73792     ['concatenate_7[0][0]']       \n                                                                                                  \n conv2d_29 (Conv2D)          (None, 256, 256, 64)         36928     ['conv2d_28[0][0]']           \n                                                                                                  \n conv2d_30 (Conv2D)          (None, 256, 256, 1)          65        ['conv2d_29[0][0]']           \n                                                                                                  \n==================================================================================================\nTotal params: 54366721 (207.39 MB)\nTrainable params: 54366721 (207.39 MB)\nNon-trainable params: 0 (0.00 Byte)\n__________________________________________________________________________________________________\n",
          "output_type": "stream"
        }
      ],
      "execution_count": null
    },
    {
      "cell_type": "code",
      "source": [
        "from sklearn.model_selection import train_test_split"
      ],
      "metadata": {
        "id": "LxKcM862ohDU",
        "execution": {
          "iopub.status.busy": "2025-01-01T15:48:53.002257Z",
          "iopub.execute_input": "2025-01-01T15:48:53.002572Z",
          "iopub.status.idle": "2025-01-01T15:48:53.095035Z",
          "shell.execute_reply.started": "2025-01-01T15:48:53.002541Z",
          "shell.execute_reply": "2025-01-01T15:48:53.093636Z"
        },
        "trusted": true
      },
      "outputs": [],
      "execution_count": null
    },
    {
      "cell_type": "code",
      "source": [
        "train_xx, val_xx, train_yy, val_yy = train_test_split(train_xx, train_yy, test_size=0.2, random_state=42)"
      ],
      "metadata": {
        "id": "ViOit2rFofTD",
        "execution": {
          "iopub.status.busy": "2025-01-01T15:48:53.096404Z",
          "iopub.execute_input": "2025-01-01T15:48:53.096794Z",
          "iopub.status.idle": "2025-01-01T15:48:53.437267Z",
          "shell.execute_reply.started": "2025-01-01T15:48:53.096752Z",
          "shell.execute_reply": "2025-01-01T15:48:53.436099Z"
        },
        "trusted": true
      },
      "outputs": [],
      "execution_count": null
    },
    {
      "cell_type": "code",
      "source": [
        "train_xx, test_xx, train_yy, test_yy = train_test_split(train_xx, train_yy, test_size=0.25, random_state=42)"
      ],
      "metadata": {
        "execution": {
          "iopub.status.busy": "2025-01-01T15:48:53.438684Z",
          "iopub.execute_input": "2025-01-01T15:48:53.439058Z",
          "iopub.status.idle": "2025-01-01T15:48:53.743541Z",
          "shell.execute_reply.started": "2025-01-01T15:48:53.439028Z",
          "shell.execute_reply": "2025-01-01T15:48:53.742269Z"
        },
        "trusted": true,
        "id": "UwFHi5o2Xk4L"
      },
      "outputs": [],
      "execution_count": null
    },
    {
      "cell_type": "code",
      "source": [
        "train_xx.shape, val_xx.shape, test_xx.shape"
      ],
      "metadata": {
        "execution": {
          "iopub.status.busy": "2025-01-01T15:48:53.744927Z",
          "iopub.execute_input": "2025-01-01T15:48:53.745239Z",
          "iopub.status.idle": "2025-01-01T15:48:53.752567Z",
          "shell.execute_reply.started": "2025-01-01T15:48:53.745215Z",
          "shell.execute_reply": "2025-01-01T15:48:53.751348Z"
        },
        "trusted": true,
        "id": "PJ78t91zXk4L",
        "outputId": "29350741-fe27-4bc1-890e-6c23af8ff874"
      },
      "outputs": [
        {
          "execution_count": 19,
          "output_type": "execute_result",
          "data": {
            "text/plain": "((648, 256, 256, 4), (216, 256, 256, 4), (216, 256, 256, 4))"
          },
          "metadata": {}
        }
      ],
      "execution_count": null
    },
    {
      "cell_type": "code",
      "source": [
        "# callback function to stop overfitting the model\n",
        "checkpointer = tf.keras.callbacks.ModelCheckpoint(\"best_weight.h5\", monitor=\"val_loss\", verbose=1, save_best_only=True, mode=\"min\")\n",
        "earlyStopping = tf.keras.callbacks.EarlyStopping(monitor='val_loss', patience=5, verbose=1, mode='min')\n",
        "\n",
        "callbacks = [\n",
        "    earlyStopping,\n",
        "    checkpointer\n",
        "    ]\n",
        "history = model.fit(train_xx, train_yy,\n",
        "                    validation_data=(val_xx, val_yy),\n",
        "                    epochs=10,\n",
        "                    batch_size=16,\n",
        "                    verbose=1,\n",
        "                    callbacks=callbacks)"
      ],
      "metadata": {
        "colab": {
          "base_uri": "https://localhost:8080/"
        },
        "id": "DuGwJOA5phbP",
        "outputId": "a119f989-bc09-402f-8620-6b24163409ad",
        "execution": {
          "iopub.status.busy": "2025-01-01T15:48:53.75441Z",
          "iopub.execute_input": "2025-01-01T15:48:53.75488Z",
          "iopub.status.idle": "2025-01-01T22:45:58.704256Z",
          "shell.execute_reply.started": "2025-01-01T15:48:53.75481Z",
          "shell.execute_reply": "2025-01-01T22:45:58.699354Z"
        },
        "trusted": true
      },
      "outputs": [
        {
          "name": "stdout",
          "text": "Epoch 1/10\n41/41 [==============================] - ETA: 0s - loss: 1.7223 - accuracy: 0.9806 \nEpoch 1: val_loss improved from inf to 0.05619, saving model to best_weight.h5\n",
          "output_type": "stream"
        },
        {
          "name": "stderr",
          "text": "/opt/conda/lib/python3.10/site-packages/keras/src/engine/training.py:3103: UserWarning: You are saving your model as an HDF5 file via `model.save()`. This file format is considered legacy. We recommend using instead the native Keras format, e.g. `model.save('my_model.keras')`.\n  saving_api.save_model(\n",
          "output_type": "stream"
        },
        {
          "name": "stdout",
          "text": "41/41 [==============================] - 2505s 61s/step - loss: 1.7223 - accuracy: 0.9806 - val_loss: 0.0562 - val_accuracy: 0.9961\nEpoch 2/10\n41/41 [==============================] - ETA: 0s - loss: 0.0272 - accuracy: 0.9956 \nEpoch 2: val_loss improved from 0.05619 to 0.01906, saving model to best_weight.h5\n41/41 [==============================] - 2505s 61s/step - loss: 0.0272 - accuracy: 0.9956 - val_loss: 0.0191 - val_accuracy: 0.9961\nEpoch 3/10\n41/41 [==============================] - ETA: 0s - loss: 0.0184 - accuracy: 0.9957 \nEpoch 3: val_loss improved from 0.01906 to 0.01260, saving model to best_weight.h5\n41/41 [==============================] - 2507s 61s/step - loss: 0.0184 - accuracy: 0.9957 - val_loss: 0.0126 - val_accuracy: 0.9967\nEpoch 4/10\n41/41 [==============================] - ETA: 0s - loss: 0.0153 - accuracy: 0.9961 \nEpoch 4: val_loss improved from 0.01260 to 0.01254, saving model to best_weight.h5\n41/41 [==============================] - 2518s 61s/step - loss: 0.0153 - accuracy: 0.9961 - val_loss: 0.0125 - val_accuracy: 0.9965\nEpoch 5/10\n41/41 [==============================] - ETA: 0s - loss: 0.0125 - accuracy: 0.9965 \nEpoch 5: val_loss improved from 0.01254 to 0.01025, saving model to best_weight.h5\n41/41 [==============================] - 2544s 62s/step - loss: 0.0125 - accuracy: 0.9965 - val_loss: 0.0103 - val_accuracy: 0.9971\nEpoch 6/10\n41/41 [==============================] - ETA: 0s - loss: 0.0114 - accuracy: 0.9966 \nEpoch 6: val_loss did not improve from 0.01025\n41/41 [==============================] - 2550s 62s/step - loss: 0.0114 - accuracy: 0.9966 - val_loss: 0.0109 - val_accuracy: 0.9969\nEpoch 7/10\n41/41 [==============================] - ETA: 0s - loss: 0.0224 - accuracy: 0.9953 \nEpoch 7: val_loss did not improve from 0.01025\n41/41 [==============================] - 2501s 61s/step - loss: 0.0224 - accuracy: 0.9953 - val_loss: 0.0169 - val_accuracy: 0.9961\nEpoch 8/10\n41/41 [==============================] - ETA: 0s - loss: 0.1790 - accuracy: 0.9849 \nEpoch 8: val_loss did not improve from 0.01025\n41/41 [==============================] - 2457s 60s/step - loss: 0.1790 - accuracy: 0.9849 - val_loss: 0.0305 - val_accuracy: 0.9961\nEpoch 9/10\n41/41 [==============================] - ETA: 0s - loss: 0.1167 - accuracy: 0.9874 \nEpoch 9: val_loss did not improve from 0.01025\n41/41 [==============================] - 2469s 60s/step - loss: 0.1167 - accuracy: 0.9874 - val_loss: 0.3060 - val_accuracy: 0.9961\nEpoch 10/10\n41/41 [==============================] - ETA: 0s - loss: 0.1000 - accuracy: 0.9956 \nEpoch 10: val_loss did not improve from 0.01025\n41/41 [==============================] - 2466s 60s/step - loss: 0.1000 - accuracy: 0.9956 - val_loss: 0.0300 - val_accuracy: 0.9961\nEpoch 10: early stopping\n",
          "output_type": "stream"
        }
      ],
      "execution_count": null
    },
    {
      "cell_type": "code",
      "source": [
        "# plot model loss over training and validation data\n",
        "plt.plot(history.history['loss'])\n",
        "plt.plot(history.history['val_loss'])\n",
        "plt.title('Model Loss')\n",
        "plt.ylabel('Loss')\n",
        "plt.xlabel('Epoch')\n",
        "plt.legend(['Train', 'Test'], loc='upper left')\n",
        "plt.show()"
      ],
      "metadata": {
        "colab": {
          "base_uri": "https://localhost:8080/",
          "height": 472
        },
        "id": "3Ee1IN5gzBIG",
        "outputId": "f3fc372c-97f9-4989-9878-f6657d487225",
        "execution": {
          "iopub.status.busy": "2025-01-01T22:45:58.711406Z",
          "iopub.execute_input": "2025-01-01T22:45:58.71329Z",
          "iopub.status.idle": "2025-01-01T22:45:59.171414Z",
          "shell.execute_reply.started": "2025-01-01T22:45:58.71321Z",
          "shell.execute_reply": "2025-01-01T22:45:59.170142Z"
        },
        "trusted": true
      },
      "outputs": [
        {
          "output_type": "display_data",
          "data": {
            "text/plain": "<Figure size 640x480 with 1 Axes>",
            "image/png": "[encoded data removed]"
          },
          "metadata": {}
        }
      ],
      "execution_count": null
    },
    {
      "cell_type": "code",
      "source": [
        "from tensorflow.keras.models import load_model\n",
        "model = load_model('best_weight.h5')"
      ],
      "metadata": {
        "id": "3TpYa_M8B18_",
        "execution": {
          "iopub.status.busy": "2025-01-01T22:45:59.173337Z",
          "iopub.execute_input": "2025-01-01T22:45:59.17375Z",
          "iopub.status.idle": "2025-01-01T22:46:04.155683Z",
          "shell.execute_reply.started": "2025-01-01T22:45:59.173717Z",
          "shell.execute_reply": "2025-01-01T22:46:04.154392Z"
        },
        "trusted": true
      },
      "outputs": [],
      "execution_count": null
    },
    {
      "cell_type": "code",
      "source": [
        "threshold = 0.2\n",
        "\n",
        "# prediction of the output\n",
        "pred_test = model.predict(test_xx)\n",
        "pred_test = (pred_test > threshold).astype(np.uint8)\n",
        "print(pred_test.shape)\n",
        "\n",
        "#let's comare random predicted and actial y values\n",
        "img = np.random.randint(0, 216)\n",
        "plt.imshow(pred_test[img, :, :, 0])\n",
        "plt.show()\n",
        "plt.imshow(train_yy[img,:,:,0])\n",
        "plt.show()"
      ],
      "metadata": {
        "colab": {
          "base_uri": "https://localhost:8080/",
          "height": 888
        },
        "id": "IRruUTkRB841",
        "outputId": "4e097f5f-aa03-40d8-cfe2-e1ae874df426",
        "execution": {
          "iopub.status.busy": "2025-01-01T22:46:04.157411Z",
          "iopub.execute_input": "2025-01-01T22:46:04.157757Z",
          "iopub.status.idle": "2025-01-01T22:49:42.430465Z",
          "shell.execute_reply.started": "2025-01-01T22:46:04.157731Z",
          "shell.execute_reply": "2025-01-01T22:49:42.428995Z"
        },
        "trusted": true
      },
      "outputs": [
        {
          "name": "stdout",
          "text": "7/7 [==============================] - 217s 31s/step\n(216, 256, 256, 1)\n",
          "output_type": "stream"
        },
        {
          "output_type": "display_data",
          "data": {
            "text/plain": "<Figure size 640x480 with 1 Axes>",
            "image/png": "[encoded data removed]"
          },
          "metadata": {}
        },
        {
          "output_type": "display_data",
          "data": {
            "text/plain": "<Figure size 640x480 with 1 Axes>",
            "image/png": "[encoded data removed]"
          },
          "metadata": {}
        }
      ],
      "execution_count": null
    },
    {
      "cell_type": "code",
      "source": [
        "def calculate_metrics(ground_truth, predicted_mask):\n",
        "    # Flatten the binary masks to 1D arrays\n",
        "    ground_truth = ground_truth.ravel()\n",
        "    predicted_mask = predicted_mask.ravel()\n",
        "\n",
        "    # True Positives, False Positives, False Negatives\n",
        "    TP = np.sum((ground_truth == 1) & (predicted_mask == 1))\n",
        "    FP = np.sum((ground_truth == 0) & (predicted_mask == 1))\n",
        "    FN = np.sum((ground_truth == 1) & (predicted_mask == 0))\n",
        "\n",
        "    # True Negatives (optional, may not be needed for all cases)\n",
        "    TN = np.sum((ground_truth == 0) & (predicted_mask == 0))\n",
        "\n",
        "    # Calculate Precision, Recall, and F1 Score\n",
        "    precision = TP / (TP + FP)\n",
        "    recall = TP / (TP + FN)\n",
        "    f1_score = 2 * (precision * recall) / (precision + recall)\n",
        "    accuracy =(TP + TN) / (TP + TN + FN + FP)\n",
        "\n",
        "    # Calculate Intersection over Union (IoU)\n",
        "    iou = TP / (TP + FP + FN)\n",
        "\n",
        "    return precision, recall, f1_score, accuracy, iou"
      ],
      "metadata": {
        "id": "s6NbHp_u1mnu",
        "execution": {
          "iopub.status.busy": "2025-01-01T22:49:42.432622Z",
          "iopub.execute_input": "2025-01-01T22:49:42.433169Z",
          "iopub.status.idle": "2025-01-01T22:49:42.444747Z",
          "shell.execute_reply.started": "2025-01-01T22:49:42.433125Z",
          "shell.execute_reply": "2025-01-01T22:49:42.443487Z"
        },
        "trusted": true
      },
      "outputs": [],
      "execution_count": null
    },
    {
      "cell_type": "code",
      "source": [
        "print(calculate_metrics(train_yy, pred_test))"
      ],
      "metadata": {
        "colab": {
          "base_uri": "https://localhost:8080/"
        },
        "id": "MDV6AjD912rr",
        "outputId": "84d0160c-08f1-4d28-e20f-ad322ac60c2d",
        "execution": {
          "iopub.status.busy": "2025-01-01T22:49:42.446308Z",
          "iopub.execute_input": "2025-01-01T22:49:42.446672Z",
          "iopub.status.idle": "2025-01-01T22:49:43.425222Z",
          "shell.execute_reply.started": "2025-01-01T22:49:42.446642Z",
          "shell.execute_reply": "2025-01-01T22:49:43.423135Z"
        },
        "trusted": true
      },
      "outputs": [
        {
          "traceback": [
            "\u001b[0;31m---------------------------------------------------------------------------\u001b[0m",
            "\u001b[0;31mValueError\u001b[0m                                Traceback (most recent call last)",
            "Cell \u001b[0;32mIn[25], line 1\u001b[0m\n\u001b[0;32m----> 1\u001b[0m \u001b[38;5;28mprint\u001b[39m(\u001b[43mcalculate_metrics\u001b[49m\u001b[43m(\u001b[49m\u001b[43mtrain_yy\u001b[49m\u001b[43m,\u001b[49m\u001b[43m \u001b[49m\u001b[43mpred_test\u001b[49m\u001b[43m)\u001b[49m)\n",
            "Cell \u001b[0;32mIn[24], line 7\u001b[0m, in \u001b[0;36mcalculate_metrics\u001b[0;34m(ground_truth, predicted_mask)\u001b[0m\n\u001b[1;32m      4\u001b[0m predicted_mask \u001b[38;5;241m=\u001b[39m predicted_mask\u001b[38;5;241m.\u001b[39mravel()\n\u001b[1;32m      6\u001b[0m \u001b[38;5;66;03m# True Positives, False Positives, False Negatives\u001b[39;00m\n\u001b[0;32m----> 7\u001b[0m TP \u001b[38;5;241m=\u001b[39m np\u001b[38;5;241m.\u001b[39msum(\u001b[43m(\u001b[49m\u001b[43mground_truth\u001b[49m\u001b[43m \u001b[49m\u001b[38;5;241;43m==\u001b[39;49m\u001b[43m \u001b[49m\u001b[38;5;241;43m1\u001b[39;49m\u001b[43m)\u001b[49m\u001b[43m \u001b[49m\u001b[38;5;241;43m&\u001b[39;49m\u001b[43m \u001b[49m\u001b[43m(\u001b[49m\u001b[43mpredicted_mask\u001b[49m\u001b[43m \u001b[49m\u001b[38;5;241;43m==\u001b[39;49m\u001b[43m \u001b[49m\u001b[38;5;241;43m1\u001b[39;49m\u001b[43m)\u001b[49m)\n\u001b[1;32m      8\u001b[0m FP \u001b[38;5;241m=\u001b[39m np\u001b[38;5;241m.\u001b[39msum((ground_truth \u001b[38;5;241m==\u001b[39m \u001b[38;5;241m0\u001b[39m) \u001b[38;5;241m&\u001b[39m (predicted_mask \u001b[38;5;241m==\u001b[39m \u001b[38;5;241m1\u001b[39m))\n\u001b[1;32m      9\u001b[0m FN \u001b[38;5;241m=\u001b[39m np\u001b[38;5;241m.\u001b[39msum((ground_truth \u001b[38;5;241m==\u001b[39m \u001b[38;5;241m1\u001b[39m) \u001b[38;5;241m&\u001b[39m (predicted_mask \u001b[38;5;241m==\u001b[39m \u001b[38;5;241m0\u001b[39m))\n",
            "\u001b[0;31mValueError\u001b[0m: operands could not be broadcast together with shapes (42467328,) (14155776,) "
          ],
          "ename": "ValueError",
          "evalue": "operands could not be broadcast together with shapes (42467328,) (14155776,) ",
          "output_type": "error"
        }
      ],
      "execution_count": null
    },
    {
      "cell_type": "code",
      "source": [],
      "metadata": {
        "trusted": true,
        "id": "P3CyvbN1Xk4R"
      },
      "outputs": [],
      "execution_count": null
    }
  ]
}